{
 "cells": [
  {
   "cell_type": "code",
   "execution_count": null,
   "metadata": {},
   "outputs": [],
   "source": [
    "import json"
   ]
  },
  {
   "cell_type": "code",
   "execution_count": null,
   "metadata": {},
   "outputs": [],
   "source": [
    "with open(\"data/deepscaler/deepscaler.json\",'r') as f:\n",
    "    data = json.load(f)"
   ]
  },
  {
   "cell_type": "code",
   "execution_count": null,
   "metadata": {},
   "outputs": [],
   "source": [
    "data[0]"
   ]
  },
  {
   "cell_type": "code",
   "execution_count": null,
   "metadata": {},
   "outputs": [],
   "source": [
    "from GPTFactory.factory import smart_build_factory"
   ]
  },
  {
   "cell_type": "code",
   "execution_count": null,
   "metadata": {},
   "outputs": [],
   "source": [
    "api_info = [{\"api_key\":\"xxx\",\"end_point\":\"http://0.0.0.0:8000/v1/chat/completions\",\"tpm\":800000,\"rpm\":1000}] # token per minute, request per minute\n",
    "worker_per_api = 128 # 单api并发数\n",
    "factory = smart_build_factory(api_info,model='Qwen2.5-VL-3B-Instruct',worker_num=worker_per_api*len(api_info),service='oai',temperature=0.7,max_tokens=8000)"
   ]
  },
  {
   "cell_type": "code",
   "execution_count": null,
   "metadata": {},
   "outputs": [],
   "source": [
    "inputs = []\n",
    "\n",
    "for idx,job in enumerate(data):\n",
    "    inputs.append({\"prompt\":job['problem'],\"id\":idx})\n",
    "\n",
    "raw_results = factory.run_task(inputs,save_path=r'ckpts/',save_step=500,save_total_limit=2)\n",
    "\n"
   ]
  },
  {
   "cell_type": "code",
   "execution_count": null,
   "metadata": {},
   "outputs": [],
   "source": [
    "raw_results = sorted(raw_results,key=lambda x:x.id)"
   ]
  },
  {
   "cell_type": "code",
   "execution_count": null,
   "metadata": {},
   "outputs": [],
   "source": [
    "results = [{\"prompt\":r.input['prompt'],\"response\":r.response,\"answer\":d[\"answer\"]} for r,d in zip(raw_results,data)]"
   ]
  },
  {
   "cell_type": "code",
   "execution_count": null,
   "metadata": {},
   "outputs": [],
   "source": []
  }
 ],
 "metadata": {
  "kernelspec": {
   "display_name": "vlmeval",
   "language": "python",
   "name": "python3"
  },
  "language_info": {
   "codemirror_mode": {
    "name": "ipython",
    "version": 3
   },
   "file_extension": ".py",
   "mimetype": "text/x-python",
   "name": "python",
   "nbconvert_exporter": "python",
   "pygments_lexer": "ipython3",
   "version": "3.10.15"
  }
 },
 "nbformat": 4,
 "nbformat_minor": 2
}
